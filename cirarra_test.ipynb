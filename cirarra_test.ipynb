{
 "cells": [
  {
   "cell_type": "code",
   "execution_count": 38,
   "metadata": {},
   "outputs": [],
   "source": [
    "import cirarra"
   ]
  },
  {
   "cell_type": "code",
   "execution_count": 39,
   "metadata": {},
   "outputs": [
    {
     "name": "stdout",
     "output_type": "stream",
     "text": [
      "The autoreload extension is already loaded. To reload it, use:\n",
      "  %reload_ext autoreload\n"
     ]
    }
   ],
   "source": [
    "importlib.reload(cirarra)\n",
    "%load_ext autoreload\n",
    "%autoreload 2"
   ]
  },
  {
   "cell_type": "markdown",
   "metadata": {},
   "source": [
    "Check if it works with stored data:"
   ]
  },
  {
   "cell_type": "code",
   "execution_count": 155,
   "metadata": {},
   "outputs": [
    {
     "name": "stdout",
     "output_type": "stream",
     "text": [
      "Applying Elias RBE... 40.43% efficiency.\n"
     ]
    }
   ],
   "source": [
    "c = cirarra.trng(seed=123,path='data/method2/20082021142022.npy',verbose=True)"
   ]
  },
  {
   "cell_type": "code",
   "execution_count": 156,
   "metadata": {},
   "outputs": [
    {
     "data": {
      "text/plain": [
       "[0.1411764705882353,\n",
       " 0.3568627450980392,\n",
       " 0.7450980392156863,\n",
       " 0.7450980392156863,\n",
       " 0.7098039215686275]"
      ]
     },
     "execution_count": 156,
     "metadata": {},
     "output_type": "execute_result"
    }
   ],
   "source": [
    "c.rand(5)"
   ]
  },
  {
   "cell_type": "markdown",
   "metadata": {},
   "source": [
    "Running `c.rand()` again should yield a different set of numbers. "
   ]
  },
  {
   "cell_type": "code",
   "execution_count": 157,
   "metadata": {},
   "outputs": [
    {
     "data": {
      "text/plain": [
       "[0.4823529411764706,\n",
       " 0.41568627450980394,\n",
       " 0.1803921568627451,\n",
       " 0.7019607843137254,\n",
       " 0.43529411764705883]"
      ]
     },
     "execution_count": 157,
     "metadata": {},
     "output_type": "execute_result"
    }
   ],
   "source": [
    "c.rand(5)"
   ]
  },
  {
   "cell_type": "markdown",
   "metadata": {},
   "source": [
    "Note how the set of numbers are different. Now check reproducibility."
   ]
  },
  {
   "cell_type": "code",
   "execution_count": 158,
   "metadata": {},
   "outputs": [
    {
     "name": "stdout",
     "output_type": "stream",
     "text": [
      "Applying Elias RBE... 40.43% efficiency.\n"
     ]
    }
   ],
   "source": [
    "c2 = cirarra.trng(seed=123,path='data/method2/20082021142022.npy',verbose=True)"
   ]
  },
  {
   "cell_type": "code",
   "execution_count": 159,
   "metadata": {},
   "outputs": [
    {
     "data": {
      "text/plain": [
       "[0.1411764705882353,\n",
       " 0.3568627450980392,\n",
       " 0.7450980392156863,\n",
       " 0.7450980392156863,\n",
       " 0.7098039215686275]"
      ]
     },
     "execution_count": 159,
     "metadata": {},
     "output_type": "execute_result"
    }
   ],
   "source": [
    "c2.rand(5)"
   ]
  },
  {
   "cell_type": "markdown",
   "metadata": {},
   "source": [
    "Note how the set of random numbers is the same as before; the seeding works. Now check if it works if we want to take a new sample. Recommended $k=1024$ but that will take around 30 minutes. We instead use $k=10$ just to check if it works."
   ]
  },
  {
   "cell_type": "code",
   "execution_count": 178,
   "metadata": {},
   "outputs": [
    {
     "name": "stdout",
     "output_type": "stream",
     "text": [
      "Sampling at 435 MHz and 40 gain... Sampling at 435 MHz, 40 gain and k = 10... n = 0 (0.0%). Time elapsed: 3.5e-05s\n",
      "Sampling at 435 MHz, 40 gain and k = 10... n = 26215 (10.0%). Time elapsed: 0.252833s\n",
      "Sampling at 435 MHz, 40 gain and k = 10... n = 52430 (20.0%). Time elapsed: 0.506957s\n",
      "Sampling at 435 MHz, 40 gain and k = 10... n = 78645 (30.0%). Time elapsed: 0.758877s\n",
      "Sampling at 435 MHz, 40 gain and k = 10... n = 104860 (40.0%). Time elapsed: 1.0112s\n",
      "Sampling at 435 MHz, 40 gain and k = 10... n = 131075 (50.0%). Time elapsed: 1.26342s\n",
      "Sampling at 435 MHz, 40 gain and k = 10... n = 157290 (60.0%). Time elapsed: 1.516096s\n",
      "Sampling at 435 MHz, 40 gain and k = 10... n = 183505 (70.0%). Time elapsed: 1.768134s\n",
      "Sampling at 435 MHz, 40 gain and k = 10... n = 209720 (80.0%). Time elapsed: 2.020308s\n",
      "Sampling at 435 MHz, 40 gain and k = 10... n = 235935 (90.0%). Time elapsed: 2.272429s\n",
      "Done.\n",
      "Saved in data/2021-09-04 13:45:16.124996.npy. Please use this as path argument next time.\n",
      "Applying Elias RBE... 39.06% efficiency.\n"
     ]
    }
   ],
   "source": [
    "c3 = cirarra.trng(k=10, verbose=True)"
   ]
  },
  {
   "cell_type": "code",
   "execution_count": 179,
   "metadata": {},
   "outputs": [
    {
     "data": {
      "text/plain": [
       "[0.10196078431372549,\n",
       " 0.21568627450980393,\n",
       " 0.7529411764705882,\n",
       " 0.6784313725490196,\n",
       " 0.7529411764705882,\n",
       " 0.4392156862745098,\n",
       " 0.9411764705882353,\n",
       " 0.10196078431372549,\n",
       " 0.10980392156862745,\n",
       " 0.8627450980392157]"
      ]
     },
     "execution_count": 179,
     "metadata": {},
     "output_type": "execute_result"
    }
   ],
   "source": [
    "c3.rand(10)"
   ]
  },
  {
   "cell_type": "markdown",
   "metadata": {},
   "source": [
    "Looks like it's working. Next time we call the function, we can just use the `path='data/2021-09-04 13:45:16.124996.npy'` argument."
   ]
  }
 ],
 "metadata": {
  "kernelspec": {
   "display_name": "Python 3",
   "language": "python",
   "name": "python3"
  },
  "language_info": {
   "codemirror_mode": {
    "name": "ipython",
    "version": 3
   },
   "file_extension": ".py",
   "mimetype": "text/x-python",
   "name": "python",
   "nbconvert_exporter": "python",
   "pygments_lexer": "ipython3",
   "version": "3.8.5"
  }
 },
 "nbformat": 4,
 "nbformat_minor": 4
}
